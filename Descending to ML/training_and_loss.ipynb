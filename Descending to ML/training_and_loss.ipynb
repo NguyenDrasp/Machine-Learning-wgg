{
 "cells": [
  {
   "cell_type": "markdown",
   "metadata": {},
   "source": [
    "Training a model simply means learning (determining) good values for all the weights and the bias from labeled examples. In supervised learning, a machine learning algorithm builds a model by examining many examples and attempting to find a model that minimizes loss; this process is called empirical risk minimization.\n",
    "\n",
    "Loss is the penalty for a bad prediction. That is, loss is a number indicating how bad the model's prediction was on a single example. If the model's prediction is perfect, the loss is zero; otherwise, the loss is greater. The goal of training a model is to find a set of weights and biases that have low loss, on average, across all examples."
   ]
  },
  {
   "cell_type": "markdown",
   "metadata": {},
   "source": [
    "Squared loss: a popular loss function\n",
    "\n",
    "The linear regression models we'll examine here use a loss function called squared loss (also known as L2 loss). The squared loss for a single example is as follows:\n",
    "\n",
    "= the square of the difference between the label and the prediction\n",
    "\n",
    "= (observation - prediction(x))2\n",
    "\n",
    "= (y - y')2"
   ]
  },
  {
   "cell_type": "markdown",
   "metadata": {},
   "source": [
    "Mean square error (MSE) is the average squared loss per example over the whole dataset. To calculate MSE, sum up all the squared losses for individual examples and then divide by the number of examples:\n",
    "\n",
    "MSE = 1/n * SumofAll((y[i] - y'[i])*(y[i]-y'[i]));\n"
   ]
  },
  {
   "cell_type": "markdown",
   "metadata": {},
   "source": [
    "where:\n",
    "\n",
    " (x,y) is an example in which\n",
    "   x is the set of features (for example, chirps/minute, age, gender) that the model uses to make predictions.\n",
    "   y is the example's label (for example, temperature).\n",
    " \n",
    " prediction(x) is a function of the weights and bias in combination with the set of features .\n",
    " \n",
    " D is a data set containing many labeled examples, which are  pairs. (x[] , y[]) ;\n",
    " \n",
    " N is the number of examples in D . (for(i -0; i<N; i++)\n",
    "\n",
    "Although MSE is commonly-used in machine learning, it is neither the only practical loss function nor the best loss function for all circumstances."
   ]
  }
 ],
 "metadata": {
  "language_info": {
   "name": "python"
  },
  "orig_nbformat": 4
 },
 "nbformat": 4,
 "nbformat_minor": 2
}
