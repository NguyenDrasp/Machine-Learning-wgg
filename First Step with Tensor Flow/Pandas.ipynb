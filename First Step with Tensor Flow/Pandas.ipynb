{
 "cells": [
  {
   "cell_type": "markdown",
   "metadata": {},
   "source": [
    "Import NumPy and pandas modules\n",
    "Run the following code cell to import the NumPy and pandas modules."
   ]
  },
  {
   "cell_type": "code",
   "execution_count": 1,
   "metadata": {},
   "outputs": [],
   "source": [
    "import numpy as np\n",
    "import pandas as pd"
   ]
  },
  {
   "cell_type": "markdown",
   "metadata": {},
   "source": [
    "Creating a DataFrame\n",
    "The following code cell creates a simple DataFrame containing 10 cells organized as follows:\n",
    "\n",
    "5 rows\n",
    "2 columns, one named temperature and the other named activity\n",
    "The following code cell instantiates a pd.DataFrame class to generate a DataFrame. The class takes two arguments:\n",
    "\n",
    "The first argument provides the data to populate the 10 cells. The code cell calls np.array to generate the 5x2 NumPy array.\n",
    "The second argument identifies the names of the two columns."
   ]
  },
  {
   "cell_type": "code",
   "execution_count": 8,
   "metadata": {},
   "outputs": [
    {
     "name": "stdout",
     "output_type": "stream",
     "text": [
      "   temperature  activity\n",
      "0            0         3\n",
      "1            5         7\n",
      "2           20         8\n",
      "3           14        15\n",
      "4           40        15\n"
     ]
    }
   ],
   "source": [
    "my_data = np.array ([[0,3],[5,7],[20,8],[14,15],[40,15]])\n",
    "column_names = ['temperature','activity']\n",
    "# Creat data frame\n",
    "data_frame = pd.DataFrame(data = my_data, columns = column_names)\n",
    "\n",
    "print(data_frame)"
   ]
  },
  {
   "cell_type": "markdown",
   "metadata": {},
   "source": [
    "Adding a new column to a DataFrame\n",
    "\n",
    "You may add a new column to an existing pandas DataFrame just by assigning values to a new column name. \n",
    "\n",
    "For example, the following code creates a third column named adjusted in dataframe:"
   ]
  },
  {
   "cell_type": "code",
   "execution_count": 5,
   "metadata": {},
   "outputs": [
    {
     "name": "stdout",
     "output_type": "stream",
     "text": [
      "   temparature  activity  adjusted\n",
      "0            0         3         5\n",
      "1            5         7         9\n",
      "2           20         8        10\n",
      "3           14        15        17\n",
      "4           40        15        17\n"
     ]
    }
   ],
   "source": [
    "# Creat New column\n",
    "data_frame['adjusted'] = data_frame['activity'] +2\n",
    "\n",
    "print(data_frame)"
   ]
  },
  {
   "cell_type": "markdown",
   "metadata": {},
   "source": [
    "Specifying a subset of a DataFrame\n",
    "\n",
    "Pandas provide multiples ways to isolate specific rows, columns, slices or cells in a DataFrame."
   ]
  },
  {
   "cell_type": "code",
   "execution_count": 9,
   "metadata": {},
   "outputs": [
    {
     "name": "stdout",
     "output_type": "stream",
     "text": [
      "Rows #0, #1, and #2:\n",
      "   temperature  activity\n",
      "0            0         3\n",
      "1            5         7\n",
      "2           20         8 \n",
      "\n",
      "Row #2:\n",
      "   temperature  activity\n",
      "2           20         8 \n",
      "\n",
      "Rows #1, #2, and #3:\n",
      "   temperature  activity\n",
      "1            5         7\n",
      "2           20         8\n",
      "3           14        15 \n",
      "\n",
      "Column 'temperature':\n",
      "0     0\n",
      "1     5\n",
      "2    20\n",
      "3    14\n",
      "4    40\n",
      "Name: temperature, dtype: int32\n"
     ]
    }
   ],
   "source": [
    "print(\"Rows #0, #1, and #2:\")\n",
    "print(data_frame.head(3), '\\n')\n",
    "\n",
    "print(\"Row #2:\")\n",
    "print(data_frame.iloc[[2]], '\\n')\n",
    "\n",
    "print(\"Rows #1, #2, and #3:\")\n",
    "print(data_frame[1:4], '\\n')\n",
    "\n",
    "print(\"Column 'temperature':\")\n",
    "print(data_frame['temperature'])"
   ]
  },
  {
   "cell_type": "markdown",
   "metadata": {},
   "source": [
    "Task 1: Create a DataFrame\n",
    "Do the following:\n",
    "\n",
    "Create an 3x4 (3 rows x 4 columns) pandas DataFrame in which the columns are named Eleanor, Chidi, Tahani, and Jason. Populate each of the 12 cells in the DataFrame with a random integer between 0 and 100, inclusive.\n",
    "\n",
    "Output the following:\n",
    "\n",
    "the entire DataFrame\n",
    "the value in the cell of row #1 of the Eleanor column\n",
    "Create a fifth column named Janet, which is populated with the row-by-row sums of Tahani and Jason."
   ]
  },
  {
   "cell_type": "code",
   "execution_count": 10,
   "metadata": {},
   "outputs": [
    {
     "name": "stdout",
     "output_type": "stream",
     "text": [
      "   Eleanor  Chidi  Tahani  Jason\n",
      "0       39     44      33      7\n",
      "1       94      2      52      7\n",
      "2       34     64      53     37\n"
     ]
    }
   ],
   "source": [
    "t_data = np.random.randint(low = 0, high = 100, size = (3,4))\n",
    "clo_name = ['Eleanor', 'Chidi', 'Tahani', 'Jason']\n",
    "t_dataframe = pd.DataFrame(data = t_data, columns = clo_name)\n",
    "\n",
    "print(t_dataframe)"
   ]
  }
 ],
 "metadata": {
  "interpreter": {
   "hash": "ecf5722fdaf1897a315d257d89d94520bfcaa453217d5becf09b39e73618b0de"
  },
  "kernelspec": {
   "display_name": "Python 3.9.5 ('base')",
   "language": "python",
   "name": "python3"
  },
  "language_info": {
   "codemirror_mode": {
    "name": "ipython",
    "version": 3
   },
   "file_extension": ".py",
   "mimetype": "text/x-python",
   "name": "python",
   "nbconvert_exporter": "python",
   "pygments_lexer": "ipython3",
   "version": "3.9.4"
  },
  "orig_nbformat": 4
 },
 "nbformat": 4,
 "nbformat_minor": 2
}
