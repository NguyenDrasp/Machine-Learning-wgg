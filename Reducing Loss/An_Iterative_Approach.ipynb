{
 "cells": [
  {
   "cell_type": "markdown",
   "metadata": {},
   "source": [
    "Reducing Loss: An Iterative Approach"
   ]
  },
  {
   "cell_type": "markdown",
   "metadata": {},
   "source": [
    "The previous module introduced the concept of loss. Here, in this module, you'll learn how a machine learning model iteratively reduces loss.\n",
    "\n",
    "Iterative learning might remind you of the \"Hot and Cold\" kid's game for finding a hidden object like a thimble. In this game, the \"hidden object\" is the best possible model. You'll start with a wild guess (\"The value of  is 0.\") and wait for the system to tell you what the loss is. Then, you'll try another guess (\"The value of  is 0.5.\") and see what the loss is. Aah, you're getting warmer. Actually, if you play this game right, you'll usually be getting warmer. The real trick to the game is trying to find the best possible model as efficiently as possible."
   ]
  },
  {
   "cell_type": "markdown",
   "metadata": {},
   "source": [
    "We'll use this same iterative approach throughout the Machine Learning Crash Course, detailing various complications, particularly within that stormy cloud labeled \"Model (Prediction Function).\" Iterative strategies are prevalent in machine learning, primarily because they scale so well to large data sets.\n",
    "\n",
    "The \"model\" takes one or more features as input and returns one prediction (y') as output. To simplify, consider a model that takes one feature and returns one prediction:\n",
    "\n",
    "                                y' = b + w1x1"
   ]
  },
  {
   "cell_type": "markdown",
   "metadata": {},
   "source": [
    "What initial values should we set for  and ? For linear regression problems, it turns out that the starting values aren't important. We could pick random values, but we'll just take the following trivial values instead:\n",
    "\n",
    " b = 0\n",
    " \n",
    " w1 = 0\n",
    " \n",
    "Suppose that the first feature value is 10. Plugging that feature value into the prediction function yields:\n",
    "                   \n",
    "                             y' = 0 + 10*0 = 0\n"
   ]
  }
 ],
 "metadata": {
  "language_info": {
   "name": "python"
  },
  "orig_nbformat": 4
 },
 "nbformat": 4,
 "nbformat_minor": 2
}
