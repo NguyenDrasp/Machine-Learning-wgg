{
 "cells": [
  {
   "cell_type": "markdown",
   "metadata": {},
   "source": []
  },
  {
   "cell_type": "markdown",
   "metadata": {},
   "source": [
    "Descending into ML: Linear Regression\n",
    "\n",
    "It has long been known that crickets (an insect species) chirp more frequently on hotter days than on cooler days. For decades, professional and amateur scientists have cataloged data on chirps-per-minute and temperature. As a birthday gift, your Aunt Ruth gives you her cricket database and asks you to learn a model to predict this relationship. Using this data, you want to explore this relationship.\n",
    "\n",
    "As expected, the plot shows the temperature rising with the number of chirps. Is this relationship between chirps and temperature linear? Yes, you could draw a single straight line like the following to approximate this relationship.\n",
    "\n",
    "True, the line doesn't pass through every dot, but the line does clearly show the relationship between chirps and temperature. Using the equation for a line, you could write down this relationship as follows:\n",
    "\n",
    "where:\n",
    "\n",
    " y is the temperature in Celsius—the value we're trying to predict.\n",
    " m is the slope of the line.\n",
    " x is the number of chirps per minute—the value of our input feature.\n",
    " b is the y-intercept.\n",
    "By convention in machine learning, you'll write the equation for a model slightly differently:\n",
    "        y' = w1x + b\n",
    "where:\n",
    "\n",
    " y is the predicted label (a desired output).\n",
    " b is the bias (the y-intercept), sometimes referred to as .\n",
    " w1 is the weight of feature 1. Weight is the same concept as the \"slope\"  in the traditional equation of a line.\n",
    " x is a feature (a known input).\n",
    "To infer (predict) the temperature  for a new chirps-per-minute value , just substitute the  value into this model.\n",
    "\n",
    "Although this model uses only one feature, a more sophisticated model might rely on multiple features, each having a separate weight (, , etc.). For example, a model that relies on three features might look as follows:\n",
    "        y' = w1x1 + w2x2+ w3x3 + b\n",
    "           = Wt . X + b\n",
    "\n",
    "\n",
    "\n"
   ]
  }
 ],
 "metadata": {
  "language_info": {
   "name": "python"
  },
  "orig_nbformat": 4
 },
 "nbformat": 4,
 "nbformat_minor": 2
}
